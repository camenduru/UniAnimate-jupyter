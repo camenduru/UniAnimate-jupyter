{
  "cells": [
    {
      "cell_type": "markdown",
      "metadata": {
        "id": "view-in-github"
      },
      "source": [
        "[![Open In Colab](https://colab.research.google.com/assets/colab-badge.svg)](https://colab.research.google.com/github/camenduru/UniAnimate-jupyter/blob/main/UniAnimate_jupyter.ipynb)"
      ]
    },
    {
      "cell_type": "code",
      "execution_count": null,
      "metadata": {
        "id": "VjYy0F2gZIPR"
      },
      "outputs": [],
      "source": [
        "%cd /content\n",
        "!git clone -b dev https://github.com/camenduru/UniAnimate\n",
        "\n",
        "!pip install moviepy \\\n",
        "             PyYAML \\\n",
        "             modelscope \\\n",
        "             onnxruntime-gpu \\\n",
        "             open-clip-torch \\\n",
        "             opencv-python \\\n",
        "             rotary-embedding-torch \\\n",
        "             fairscale \\\n",
        "             imageio-ffmpeg \\\n",
        "             pytorch_lightning \\\n",
        "             easydict \\\n",
        "             matplotlib \\\n",
        "             pynvml -U\n",
        "\n",
        "!aria2c --console-log-level=error -c -x 16 -s 16 -k 1M https://huggingface.co/camenduru/unianimate/raw/main/configuration.json -d /content/UniAnimate/checkpoints -o configuration.json\n",
        "!aria2c --console-log-level=error -c -x 16 -s 16 -k 1M https://huggingface.co/camenduru/unianimate/resolve/main/dw-ll_ucoco_384.onnx -d /content/UniAnimate/checkpoints -o dw-ll_ucoco_384.onnx\n",
        "!aria2c --console-log-level=error -c -x 16 -s 16 -k 1M https://huggingface.co/camenduru/unianimate/resolve/main/open_clip_pytorch_model.bin -d /content/UniAnimate/checkpoints -o open_clip_pytorch_model.bin\n",
        "!aria2c --console-log-level=error -c -x 16 -s 16 -k 1M https://huggingface.co/camenduru/unianimate/resolve/main/unianimate_16f_32f_non_ema_223000.pth -d /content/UniAnimate/checkpoints -o unianimate_16f_32f_non_ema_223000.pth\n",
        "!aria2c --console-log-level=error -c -x 16 -s 16 -k 1M https://huggingface.co/camenduru/unianimate/resolve/main/v2-1_512-ema-pruned.ckpt -d /content/UniAnimate/checkpoints -o v2-1_512-ema-pruned.ckpt\n",
        "!aria2c --console-log-level=error -c -x 16 -s 16 -k 1M https://huggingface.co/camenduru/unianimate/resolve/main/yolox_l.onnx -d /content/UniAnimate/checkpoints -o yolox_l.onnx"
      ]
    },
    {
      "cell_type": "code",
      "execution_count": null,
      "metadata": {},
      "outputs": [],
      "source": [
        "# references\n",
        "!python run_align_pose.py  --ref_name data/images/WOMEN-Blouses_Shirts-id_00004955-01_4_full.jpg --source_video_paths data/videos/source_video.mp4 --saved_pose_dir data/saved_pose/WOMEN-Blouses_Shirts-id_00004955-01_4_full \n",
        "# !python run_align_pose.py  --ref_name data/images/musk.jpg --source_video_paths data/videos/source_video.mp4 --saved_pose_dir data/saved_pose/musk \n",
        "# !python run_align_pose.py  --ref_name data/images/WOMEN-Blouses_Shirts-id_00005125-03_4_full.jpg --source_video_paths data/videos/source_video.mp4 --saved_pose_dir data/saved_pose/WOMEN-Blouses_Shirts-id_00005125-03_4_full\n",
        "# !python run_align_pose.py  --ref_name data/images/IMG_20240514_104337.jpg --source_video_paths data/videos/source_video.mp4 --saved_pose_dir data/saved_pose/IMG_20240514_104337"
      ]
    },
    {
      "cell_type": "code",
      "execution_count": null,
      "metadata": {},
      "outputs": [],
      "source": [
        "!python inference.py --cfg configs/UniAnimate_infer.yaml "
      ]
    }
  ],
  "metadata": {
    "accelerator": "GPU",
    "colab": {
      "gpuType": "T4",
      "provenance": []
    },
    "kernelspec": {
      "display_name": "Python 3",
      "name": "python3"
    },
    "language_info": {
      "name": "python"
    }
  },
  "nbformat": 4,
  "nbformat_minor": 0
}
